{
 "cells": [
  {
   "cell_type": "markdown",
   "id": "479adc99-387a-40ca-b8eb-25660a281622",
   "metadata": {},
   "source": [
    "# Word Segmentation on Brent with a Transition Probability Model"
   ]
  },
  {
   "cell_type": "markdown",
   "id": "9507ee66-7852-4b41-9be9-d9c11ce1737d",
   "metadata": {},
   "source": [
    "Herman Kamper, 2021"
   ]
  },
  {
   "cell_type": "markdown",
   "id": "182f0738-1124-4e19-88d5-b79637c0d639",
   "metadata": {},
   "source": [
    "## Preliminaries"
   ]
  },
  {
   "cell_type": "code",
   "execution_count": 33,
   "id": "b063271c-7e04-46a7-8afc-0e897c41682a",
   "metadata": {},
   "outputs": [],
   "source": [
    "from datetime import datetime\n",
    "from pathlib import Path\n",
    "from tqdm import tqdm\n",
    "from wordseg.algos import tp\n",
    "import numpy as np\n",
    "import sys\n",
    "\n",
    "sys.path.append(\"..\")\n",
    "\n",
    "from utils import eval_segmentation"
   ]
  },
  {
   "cell_type": "markdown",
   "id": "7d1f38cf-ea01-431f-881d-15b3e389d6a6",
   "metadata": {},
   "source": [
    "## Utility functions"
   ]
  },
  {
   "cell_type": "code",
   "execution_count": 34,
   "id": "c681b6cc-9089-4050-bfd8-e73f409ae095",
   "metadata": {},
   "outputs": [],
   "source": [
    "def get_segmented_sentence(ids, boundaries, id_to_symbol, join_char=\"\"):\n",
    "    output = \"\"\n",
    "    cur_word = []\n",
    "    for i_symbol, boundary in enumerate(boundaries):\n",
    "        cur_word.append(id_to_symbol[ids[i_symbol]])\n",
    "        if boundary:\n",
    "            output += join_char.join(cur_word)\n",
    "            output += \" \"\n",
    "            cur_word = []\n",
    "    return output.strip()\n",
    "\n",
    "def sentence_to_boundaries(sentence):\n",
    "    boundaries = []\n",
    "    for char in sentence:\n",
    "        if char == \" \":\n",
    "            boundaries[-1] = True\n",
    "        else:\n",
    "            boundaries.append(False)\n",
    "    boundaries[-1] = True\n",
    "    return np.array(boundaries)"
   ]
  },
  {
   "cell_type": "markdown",
   "id": "92012ef5-3be8-4e32-befd-889281da51a0",
   "metadata": {},
   "source": [
    "## Data"
   ]
  },
  {
   "cell_type": "code",
   "execution_count": 35,
   "id": "8475b9b2-a941-4ead-bf01-40be8ba78f3b",
   "metadata": {},
   "outputs": [
    {
     "name": "stdout",
     "output_type": "stream",
     "text": [
      "Reading: ../data/br-phono.txt\n",
      "No. sentences: 9790\n",
      "\n",
      "Example training sentence reference:\n",
      "yu want tu si D6 bUk\n"
     ]
    }
   ],
   "source": [
    "# Load data\n",
    "fn = Path(\"../data\")/\"br-phono.txt\"\n",
    "print(\"Reading:\", fn)\n",
    "sentences_ref = []\n",
    "with open(fn) as f:\n",
    "    for line in f:\n",
    "        sentences_ref.append(line.strip())\n",
    "print(\"No. sentences:\", len(sentences_ref))\n",
    "train_sentences_ref = sentences_ref[:]\n",
    "\n",
    "print(\"\\nExample training sentence reference:\")\n",
    "print(train_sentences_ref[0])"
   ]
  },
  {
   "cell_type": "markdown",
   "id": "05b9815c-fb2a-417b-b6d3-6031ca85a0ab",
   "metadata": {},
   "source": [
    "## Segmentation "
   ]
  },
  {
   "cell_type": "code",
   "execution_count": 36,
   "id": "c90fc0dc-1ff5-4cef-b541-6e3e87de0bb8",
   "metadata": {},
   "outputs": [
    {
     "name": "stdout",
     "output_type": "stream",
     "text": [
      "Example training sentence:\n",
      "y u w a n t t u s i D 6 b U k\n"
     ]
    }
   ],
   "source": [
    "prepared_text = [\" \".join([j for j in i.replace(\" \", \"\")]).strip() for i in train_sentences_ref]\n",
    "print(\"Example training sentence:\")\n",
    "print(prepared_text[0])"
   ]
  },
  {
   "cell_type": "code",
   "execution_count": 37,
   "id": "42bd71ea-5638-40f3-9d3f-9d8c3a413a49",
   "metadata": {},
   "outputs": [],
   "source": [
    "# Segment\n",
    "threshold=\"relative\"\n",
    "dependency=\"ftp\"\n",
    "segmented_sentences = list(\n",
    "    tp.segment(prepared_text, threshold=threshold, dependency=dependency)\n",
    "    )"
   ]
  },
  {
   "cell_type": "markdown",
   "id": "e7b26638-1ca5-46e0-bb8b-a8d1208f3131",
   "metadata": {},
   "source": [
    "## Evaluation"
   ]
  },
  {
   "cell_type": "code",
   "execution_count": 38,
   "id": "c86de9f2-02f3-4133-bf57-94b1655883db",
   "metadata": {},
   "outputs": [
    {
     "name": "stderr",
     "output_type": "stream",
     "text": [
      "9790it [00:00, 198927.59it/s]\n"
     ]
    }
   ],
   "source": [
    "reference_boundaries = []\n",
    "predicted_boundaries = []\n",
    "for ref, pred in tqdm(zip(train_sentences_ref, segmented_sentences)):\n",
    "    reference_boundaries.append(sentence_to_boundaries(ref))\n",
    "    predicted_boundaries.append(sentence_to_boundaries(pred))"
   ]
  },
  {
   "cell_type": "code",
   "execution_count": 39,
   "id": "e4b93605-82eb-4c5b-a54f-7cac5fa746ff",
   "metadata": {},
   "outputs": [
    {
     "name": "stdout",
     "output_type": "stream",
     "text": [
      "---------------------------------------------------------------------------\n",
      "Word boundaries:\n",
      "Precision: 58.8965%\n",
      "Recall: 70.9433%\n",
      "F-score: 64.3611%\n",
      "OS: 20.4541%\n",
      "---------------------------------------------------------------------------\n",
      "Word token boundaries:\n",
      "Precision: 43.8684%\n",
      "Recall: 50.2111%\n",
      "F-score: 46.8259%\n",
      "OS: 14.4585%\n",
      "---------------------------------------------------------------------------\n"
     ]
    }
   ],
   "source": [
    "p, r, f  = eval_segmentation.score_boundaries(\n",
    "    reference_boundaries, predicted_boundaries\n",
    "    )\n",
    "print(\"-\"*(79 - 4))\n",
    "print(\"Word boundaries:\")\n",
    "print(\"Precision: {:.4f}%\".format(p*100))\n",
    "print(\"Recall: {:.4f}%\".format(r*100))\n",
    "print(\"F-score: {:.4f}%\".format(f*100))\n",
    "print(\"OS: {:.4f}%\".format(eval_segmentation.get_os(p, r)*100))\n",
    "print(\"-\"*(79 - 4))\n",
    "\n",
    "p, r, f = eval_segmentation.score_word_token_boundaries(\n",
    "    reference_boundaries, predicted_boundaries\n",
    "    )\n",
    "print(\"Word token boundaries:\")\n",
    "print(\"Precision: {:.4f}%\".format(p*100))\n",
    "print(\"Recall: {:.4f}%\".format(r*100))\n",
    "print(\"F-score: {:.4f}%\".format(f*100))\n",
    "print(\"OS: {:.4f}%\".format(eval_segmentation.get_os(p, r)*100))\n",
    "print(\"-\"*(79 - 4))"
   ]
  },
  {
   "cell_type": "code",
   "execution_count": null,
   "id": "2656c8ac-0124-47da-8e74-af9c8cf63984",
   "metadata": {},
   "outputs": [],
   "source": []
  }
 ],
 "metadata": {
  "kernelspec": {
   "display_name": "Python 3",
   "language": "python",
   "name": "python3"
  },
  "language_info": {
   "codemirror_mode": {
    "name": "ipython",
    "version": 3
   },
   "file_extension": ".py",
   "mimetype": "text/x-python",
   "name": "python",
   "nbconvert_exporter": "python",
   "pygments_lexer": "ipython3",
   "version": "3.7.9"
  }
 },
 "nbformat": 4,
 "nbformat_minor": 5
}
